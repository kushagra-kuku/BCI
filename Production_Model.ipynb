{
  "nbformat": 4,
  "nbformat_minor": 0,
  "metadata": {
    "colab": {
      "name": "Production_Model.ipynb",
      "provenance": [],
      "collapsed_sections": []
    },
    "kernelspec": {
      "display_name": "Python 3",
      "name": "python3"
    },
    "language_info": {
      "name": "python"
    }
  },
  "cells": [
    {
      "cell_type": "code",
      "metadata": {
        "colab": {
          "base_uri": "https://localhost:8080/"
        },
        "id": "CKISt9hehEuc",
        "outputId": "fb0a2516-2d0e-44aa-b6ef-6b7b6ca7a613"
      },
      "source": [
        "from google.colab import drive\n",
        "\n",
        "drive.mount('/content/gdrive')\n"
      ],
      "execution_count": null,
      "outputs": [
        {
          "output_type": "stream",
          "text": [
            "Drive already mounted at /content/gdrive; to attempt to forcibly remount, call drive.mount(\"/content/gdrive\", force_remount=True).\n"
          ],
          "name": "stdout"
        }
      ]
    },
    {
      "cell_type": "code",
      "metadata": {
        "colab": {
          "base_uri": "https://localhost:8080/"
        },
        "id": "qsf79RZKqIbd",
        "outputId": "ab5fd10a-529d-4209-8d6b-388c4dcda338"
      },
      "source": [
        "!pip install pyedflib"
      ],
      "execution_count": null,
      "outputs": [
        {
          "output_type": "stream",
          "text": [
            "Requirement already satisfied: pyedflib in /usr/local/lib/python3.7/dist-packages (0.1.22)\n",
            "Requirement already satisfied: numpy>=1.9.1 in /usr/local/lib/python3.7/dist-packages (from pyedflib) (1.19.5)\n"
          ],
          "name": "stdout"
        }
      ]
    },
    {
      "cell_type": "code",
      "metadata": {
        "id": "3ascjCVGiPjh"
      },
      "source": [
        "import pandas as pd\n",
        "import numpy as np \n",
        "from pyedflib import highlevel\n",
        "from sklearn import preprocessing\n",
        "import progressbar as pb\n",
        "from time import time\n",
        "import tensorflow as tf\n",
        "from tensorflow import keras\n",
        "from tensorflow.keras import layers"
      ],
      "execution_count": null,
      "outputs": []
    },
    {
      "cell_type": "code",
      "metadata": {
        "colab": {
          "base_uri": "https://localhost:8080/"
        },
        "id": "clxZY9l4i2ps",
        "outputId": "392b34c0-1cf1-4d67-ff41-ee60caefed4b"
      },
      "source": [
        "!ls"
      ],
      "execution_count": null,
      "outputs": [
        {
          "output_type": "stream",
          "text": [
            "gdrive\tsample_data\n"
          ],
          "name": "stdout"
        }
      ]
    },
    {
      "cell_type": "code",
      "metadata": {
        "id": "bG4rKDuvlK3i"
      },
      "source": [
        "import os\n",
        "os.chdir('gdrive/MyDrive/')"
      ],
      "execution_count": null,
      "outputs": []
    },
    {
      "cell_type": "code",
      "metadata": {
        "id": "PjR7p0pzi_cV"
      },
      "source": [
        "signals, signal_headers, header = highlevel.read_edf('MI_Kushagra.edf')\n",
        "head = [] \n",
        "for i in range(len(signal_headers)):\n",
        "    head.insert(len(head),signal_headers[i]['label'])"
      ],
      "execution_count": null,
      "outputs": []
    },
    {
      "cell_type": "code",
      "metadata": {
        "colab": {
          "base_uri": "https://localhost:8080/",
          "height": 215
        },
        "id": "h5k7OSd4jK5O",
        "outputId": "21bf56af-4699-4e20-84bf-fd5bff712662"
      },
      "source": [
        "archive=pd.DataFrame(data=signals.transpose(),columns = head)\n",
        "archive['Ans'] = 0\n",
        "archive['TimeStamp'] = [float(i/2048) for i in range(0,archive.shape[0])]\n",
        "archive.head()"
      ],
      "execution_count": null,
      "outputs": [
        {
          "output_type": "execute_result",
          "data": {
            "text/html": [
              "<div>\n",
              "<style scoped>\n",
              "    .dataframe tbody tr th:only-of-type {\n",
              "        vertical-align: middle;\n",
              "    }\n",
              "\n",
              "    .dataframe tbody tr th {\n",
              "        vertical-align: top;\n",
              "    }\n",
              "\n",
              "    .dataframe thead th {\n",
              "        text-align: right;\n",
              "    }\n",
              "</style>\n",
              "<table border=\"1\" class=\"dataframe\">\n",
              "  <thead>\n",
              "    <tr style=\"text-align: right;\">\n",
              "      <th></th>\n",
              "      <th>FP1</th>\n",
              "      <th>FP2</th>\n",
              "      <th>F7</th>\n",
              "      <th>F3</th>\n",
              "      <th>FZ</th>\n",
              "      <th>F4</th>\n",
              "      <th>F8</th>\n",
              "      <th>T7</th>\n",
              "      <th>C3</th>\n",
              "      <th>CZ</th>\n",
              "      <th>C4</th>\n",
              "      <th>T8</th>\n",
              "      <th>P7</th>\n",
              "      <th>P3</th>\n",
              "      <th>PZ</th>\n",
              "      <th>P4</th>\n",
              "      <th>P8</th>\n",
              "      <th>O1</th>\n",
              "      <th>O2</th>\n",
              "      <th>A1</th>\n",
              "      <th>A2</th>\n",
              "      <th>EMG1</th>\n",
              "      <th>EMG2</th>\n",
              "      <th>ECG1</th>\n",
              "      <th>ECG2</th>\n",
              "      <th>Ans</th>\n",
              "      <th>TimeStamp</th>\n",
              "    </tr>\n",
              "  </thead>\n",
              "  <tbody>\n",
              "    <tr>\n",
              "      <th>0</th>\n",
              "      <td>367.284657</td>\n",
              "      <td>1.983673</td>\n",
              "      <td>-34.637980</td>\n",
              "      <td>11.444266</td>\n",
              "      <td>-23.346304</td>\n",
              "      <td>-24.872206</td>\n",
              "      <td>31.891356</td>\n",
              "      <td>93.232624</td>\n",
              "      <td>-55.695430</td>\n",
              "      <td>-60.578317</td>\n",
              "      <td>-65.766384</td>\n",
              "      <td>-48.371099</td>\n",
              "      <td>-22.430762</td>\n",
              "      <td>-26.092927</td>\n",
              "      <td>-82.856489</td>\n",
              "      <td>-69.428550</td>\n",
              "      <td>20.599680</td>\n",
              "      <td>-40.741588</td>\n",
              "      <td>-83.772030</td>\n",
              "      <td>24.261845</td>\n",
              "      <td>-82.551308</td>\n",
              "      <td>175.631342</td>\n",
              "      <td>-490.272374</td>\n",
              "      <td>6248.416876</td>\n",
              "      <td>10000.000000</td>\n",
              "      <td>0</td>\n",
              "      <td>0.000000</td>\n",
              "    </tr>\n",
              "    <tr>\n",
              "      <th>1</th>\n",
              "      <td>301.060502</td>\n",
              "      <td>-29.449912</td>\n",
              "      <td>110.017548</td>\n",
              "      <td>77.668421</td>\n",
              "      <td>55.390249</td>\n",
              "      <td>22.125582</td>\n",
              "      <td>66.681926</td>\n",
              "      <td>60.883497</td>\n",
              "      <td>110.627909</td>\n",
              "      <td>-86.823835</td>\n",
              "      <td>51.728084</td>\n",
              "      <td>81.635767</td>\n",
              "      <td>173.189899</td>\n",
              "      <td>109.712367</td>\n",
              "      <td>29.144732</td>\n",
              "      <td>-24.567025</td>\n",
              "      <td>9.308003</td>\n",
              "      <td>140.230411</td>\n",
              "      <td>-28.839551</td>\n",
              "      <td>173.495079</td>\n",
              "      <td>74.616617</td>\n",
              "      <td>176.241703</td>\n",
              "      <td>-494.544900</td>\n",
              "      <td>5092.088197</td>\n",
              "      <td>10000.000000</td>\n",
              "      <td>0</td>\n",
              "      <td>0.000488</td>\n",
              "    </tr>\n",
              "    <tr>\n",
              "      <th>2</th>\n",
              "      <td>241.550317</td>\n",
              "      <td>-59.967956</td>\n",
              "      <td>250.095369</td>\n",
              "      <td>140.840772</td>\n",
              "      <td>131.990539</td>\n",
              "      <td>68.513008</td>\n",
              "      <td>100.251774</td>\n",
              "      <td>28.839551</td>\n",
              "      <td>271.763180</td>\n",
              "      <td>-112.153811</td>\n",
              "      <td>165.560388</td>\n",
              "      <td>207.980468</td>\n",
              "      <td>362.706950</td>\n",
              "      <td>240.634775</td>\n",
              "      <td>138.704509</td>\n",
              "      <td>18.463416</td>\n",
              "      <td>-1.373312</td>\n",
              "      <td>315.098802</td>\n",
              "      <td>24.261845</td>\n",
              "      <td>317.235065</td>\n",
              "      <td>226.901656</td>\n",
              "      <td>173.800259</td>\n",
              "      <td>-490.882734</td>\n",
              "      <td>3992.828260</td>\n",
              "      <td>10000.000000</td>\n",
              "      <td>0</td>\n",
              "      <td>0.000977</td>\n",
              "    </tr>\n",
              "    <tr>\n",
              "      <th>3</th>\n",
              "      <td>189.059281</td>\n",
              "      <td>-88.960098</td>\n",
              "      <td>382.543679</td>\n",
              "      <td>200.350958</td>\n",
              "      <td>204.623484</td>\n",
              "      <td>112.153811</td>\n",
              "      <td>131.380179</td>\n",
              "      <td>-1.983673</td>\n",
              "      <td>424.048219</td>\n",
              "      <td>-135.957885</td>\n",
              "      <td>273.289082</td>\n",
              "      <td>327.916381</td>\n",
              "      <td>541.237507</td>\n",
              "      <td>363.927672</td>\n",
              "      <td>242.160678</td>\n",
              "      <td>59.662776</td>\n",
              "      <td>-12.054627</td>\n",
              "      <td>479.896239</td>\n",
              "      <td>74.616617</td>\n",
              "      <td>452.735180</td>\n",
              "      <td>370.946822</td>\n",
              "      <td>170.138094</td>\n",
              "      <td>-480.201419</td>\n",
              "      <td>2968.337530</td>\n",
              "      <td>10000.000000</td>\n",
              "      <td>0</td>\n",
              "      <td>0.001465</td>\n",
              "    </tr>\n",
              "    <tr>\n",
              "      <th>4</th>\n",
              "      <td>142.366674</td>\n",
              "      <td>-115.510796</td>\n",
              "      <td>504.310674</td>\n",
              "      <td>254.978256</td>\n",
              "      <td>271.458000</td>\n",
              "      <td>152.742809</td>\n",
              "      <td>160.067140</td>\n",
              "      <td>-30.670634</td>\n",
              "      <td>564.431220</td>\n",
              "      <td>-157.625696</td>\n",
              "      <td>372.167544</td>\n",
              "      <td>438.696880</td>\n",
              "      <td>705.424582</td>\n",
              "      <td>477.454795</td>\n",
              "      <td>337.987335</td>\n",
              "      <td>98.115511</td>\n",
              "      <td>-21.820401</td>\n",
              "      <td>631.876097</td>\n",
              "      <td>121.309224</td>\n",
              "      <td>577.248798</td>\n",
              "      <td>503.700313</td>\n",
              "      <td>164.644846</td>\n",
              "      <td>-456.397345</td>\n",
              "      <td>2007.324331</td>\n",
              "      <td>9645.990692</td>\n",
              "      <td>0</td>\n",
              "      <td>0.001953</td>\n",
              "    </tr>\n",
              "  </tbody>\n",
              "</table>\n",
              "</div>"
            ],
            "text/plain": [
              "          FP1         FP2          F7  ...          ECG2  Ans  TimeStamp\n",
              "0  367.284657    1.983673  -34.637980  ...  10000.000000    0   0.000000\n",
              "1  301.060502  -29.449912  110.017548  ...  10000.000000    0   0.000488\n",
              "2  241.550317  -59.967956  250.095369  ...  10000.000000    0   0.000977\n",
              "3  189.059281  -88.960098  382.543679  ...  10000.000000    0   0.001465\n",
              "4  142.366674 -115.510796  504.310674  ...   9645.990692    0   0.001953\n",
              "\n",
              "[5 rows x 27 columns]"
            ]
          },
          "metadata": {
            "tags": []
          },
          "execution_count": 8
        }
      ]
    },
    {
      "cell_type": "code",
      "metadata": {
        "colab": {
          "base_uri": "https://localhost:8080/",
          "height": 402
        },
        "id": "2wTIXDmPjPxl",
        "outputId": "8a0225ec-60e1-402e-8961-613dcc5310cf"
      },
      "source": [
        "local_data = pd.DataFrame(archive.iloc[:,[3,5,7,11,14,25,26]])\n",
        "local_data.head(1000)"
      ],
      "execution_count": null,
      "outputs": [
        {
          "output_type": "execute_result",
          "data": {
            "text/html": [
              "<div>\n",
              "<style scoped>\n",
              "    .dataframe tbody tr th:only-of-type {\n",
              "        vertical-align: middle;\n",
              "    }\n",
              "\n",
              "    .dataframe tbody tr th {\n",
              "        vertical-align: top;\n",
              "    }\n",
              "\n",
              "    .dataframe thead th {\n",
              "        text-align: right;\n",
              "    }\n",
              "</style>\n",
              "<table border=\"1\" class=\"dataframe\">\n",
              "  <thead>\n",
              "    <tr style=\"text-align: right;\">\n",
              "      <th></th>\n",
              "      <th>F3</th>\n",
              "      <th>F4</th>\n",
              "      <th>T7</th>\n",
              "      <th>T8</th>\n",
              "      <th>PZ</th>\n",
              "      <th>Ans</th>\n",
              "      <th>TimeStamp</th>\n",
              "    </tr>\n",
              "  </thead>\n",
              "  <tbody>\n",
              "    <tr>\n",
              "      <th>0</th>\n",
              "      <td>11.444266</td>\n",
              "      <td>-24.872206</td>\n",
              "      <td>93.232624</td>\n",
              "      <td>-48.371099</td>\n",
              "      <td>-82.856489</td>\n",
              "      <td>0</td>\n",
              "      <td>0.000000</td>\n",
              "    </tr>\n",
              "    <tr>\n",
              "      <th>1</th>\n",
              "      <td>77.668421</td>\n",
              "      <td>22.125582</td>\n",
              "      <td>60.883497</td>\n",
              "      <td>81.635767</td>\n",
              "      <td>29.144732</td>\n",
              "      <td>0</td>\n",
              "      <td>0.000488</td>\n",
              "    </tr>\n",
              "    <tr>\n",
              "      <th>2</th>\n",
              "      <td>140.840772</td>\n",
              "      <td>68.513008</td>\n",
              "      <td>28.839551</td>\n",
              "      <td>207.980468</td>\n",
              "      <td>138.704509</td>\n",
              "      <td>0</td>\n",
              "      <td>0.000977</td>\n",
              "    </tr>\n",
              "    <tr>\n",
              "      <th>3</th>\n",
              "      <td>200.350958</td>\n",
              "      <td>112.153811</td>\n",
              "      <td>-1.983673</td>\n",
              "      <td>327.916381</td>\n",
              "      <td>242.160678</td>\n",
              "      <td>0</td>\n",
              "      <td>0.001465</td>\n",
              "    </tr>\n",
              "    <tr>\n",
              "      <th>4</th>\n",
              "      <td>254.978256</td>\n",
              "      <td>152.742809</td>\n",
              "      <td>-30.670634</td>\n",
              "      <td>438.696880</td>\n",
              "      <td>337.987335</td>\n",
              "      <td>0</td>\n",
              "      <td>0.001953</td>\n",
              "    </tr>\n",
              "    <tr>\n",
              "      <th>...</th>\n",
              "      <td>...</td>\n",
              "      <td>...</td>\n",
              "      <td>...</td>\n",
              "      <td>...</td>\n",
              "      <td>...</td>\n",
              "      <td>...</td>\n",
              "      <td>...</td>\n",
              "    </tr>\n",
              "    <tr>\n",
              "      <th>995</th>\n",
              "      <td>67.292287</td>\n",
              "      <td>51.422904</td>\n",
              "      <td>-38.605325</td>\n",
              "      <td>126.497292</td>\n",
              "      <td>124.666209</td>\n",
              "      <td>0</td>\n",
              "      <td>0.485840</td>\n",
              "    </tr>\n",
              "    <tr>\n",
              "      <th>996</th>\n",
              "      <td>67.292287</td>\n",
              "      <td>51.422904</td>\n",
              "      <td>-38.605325</td>\n",
              "      <td>126.192111</td>\n",
              "      <td>124.666209</td>\n",
              "      <td>0</td>\n",
              "      <td>0.486328</td>\n",
              "    </tr>\n",
              "    <tr>\n",
              "      <th>997</th>\n",
              "      <td>67.292287</td>\n",
              "      <td>51.422904</td>\n",
              "      <td>-38.605325</td>\n",
              "      <td>126.192111</td>\n",
              "      <td>124.666209</td>\n",
              "      <td>0</td>\n",
              "      <td>0.486816</td>\n",
              "    </tr>\n",
              "    <tr>\n",
              "      <th>998</th>\n",
              "      <td>67.292287</td>\n",
              "      <td>51.117723</td>\n",
              "      <td>-38.605325</td>\n",
              "      <td>126.192111</td>\n",
              "      <td>124.666209</td>\n",
              "      <td>0</td>\n",
              "      <td>0.487305</td>\n",
              "    </tr>\n",
              "    <tr>\n",
              "      <th>999</th>\n",
              "      <td>67.292287</td>\n",
              "      <td>51.117723</td>\n",
              "      <td>-38.605325</td>\n",
              "      <td>125.886931</td>\n",
              "      <td>124.666209</td>\n",
              "      <td>0</td>\n",
              "      <td>0.487793</td>\n",
              "    </tr>\n",
              "  </tbody>\n",
              "</table>\n",
              "<p>1000 rows × 7 columns</p>\n",
              "</div>"
            ],
            "text/plain": [
              "             F3          F4         T7          T8          PZ  Ans  TimeStamp\n",
              "0     11.444266  -24.872206  93.232624  -48.371099  -82.856489    0   0.000000\n",
              "1     77.668421   22.125582  60.883497   81.635767   29.144732    0   0.000488\n",
              "2    140.840772   68.513008  28.839551  207.980468  138.704509    0   0.000977\n",
              "3    200.350958  112.153811  -1.983673  327.916381  242.160678    0   0.001465\n",
              "4    254.978256  152.742809 -30.670634  438.696880  337.987335    0   0.001953\n",
              "..          ...         ...        ...         ...         ...  ...        ...\n",
              "995   67.292287   51.422904 -38.605325  126.497292  124.666209    0   0.485840\n",
              "996   67.292287   51.422904 -38.605325  126.192111  124.666209    0   0.486328\n",
              "997   67.292287   51.422904 -38.605325  126.192111  124.666209    0   0.486816\n",
              "998   67.292287   51.117723 -38.605325  126.192111  124.666209    0   0.487305\n",
              "999   67.292287   51.117723 -38.605325  125.886931  124.666209    0   0.487793\n",
              "\n",
              "[1000 rows x 7 columns]"
            ]
          },
          "metadata": {
            "tags": []
          },
          "execution_count": 9
        }
      ]
    },
    {
      "cell_type": "code",
      "metadata": {
        "colab": {
          "base_uri": "https://localhost:8080/"
        },
        "id": "QhNL-OKujTD7",
        "outputId": "f83938d6-1543-43d5-c7d8-c7cf84c843d4"
      },
      "source": [
        "encoded = []\n",
        "x = 4\n",
        "for i in pb.progressbar(range(0,archive.shape[0])):\n",
        "    if ((x+1<67)and(header['annotations'][x+1][0]<=float(i/2048))):\n",
        "        x=x+1\n",
        "    temp = header['annotations'][x][2].lower()\n",
        "    if ((temp=='eyes close')or(temp=='eyes open')or(temp=='awake')):\n",
        "        encoded.append(0)\n",
        "    elif ((temp==\"'s\")or(temp=='s')):\n",
        "        encoded.append(1)\n",
        "    elif (temp=='b'):\n",
        "        encoded.append(2)\n",
        "    elif (temp=='l'):\n",
        "        encoded.append(3)\n",
        "    elif (temp=='r'):\n",
        "        encoded.append(4)\n",
        "    else:\n",
        "        encoded.append(5)\n",
        "local_data['Ans'] = encoded\n",
        "archive['Ans'] = encoded"
      ],
      "execution_count": null,
      "outputs": [
        {
          "output_type": "stream",
          "text": [
            "100% (2885632 of 2885632) |##############| Elapsed Time: 0:00:13 Time:  0:00:13\n"
          ],
          "name": "stderr"
        }
      ]
    },
    {
      "cell_type": "code",
      "metadata": {
        "colab": {
          "base_uri": "https://localhost:8080/",
          "height": 402
        },
        "id": "7Adcj61c3xAR",
        "outputId": "cffa4ec6-a325-4457-a8a1-4c74ab4a19bd"
      },
      "source": [
        "local_data.head(1000)"
      ],
      "execution_count": null,
      "outputs": [
        {
          "output_type": "execute_result",
          "data": {
            "text/html": [
              "<div>\n",
              "<style scoped>\n",
              "    .dataframe tbody tr th:only-of-type {\n",
              "        vertical-align: middle;\n",
              "    }\n",
              "\n",
              "    .dataframe tbody tr th {\n",
              "        vertical-align: top;\n",
              "    }\n",
              "\n",
              "    .dataframe thead th {\n",
              "        text-align: right;\n",
              "    }\n",
              "</style>\n",
              "<table border=\"1\" class=\"dataframe\">\n",
              "  <thead>\n",
              "    <tr style=\"text-align: right;\">\n",
              "      <th></th>\n",
              "      <th>F3</th>\n",
              "      <th>F4</th>\n",
              "      <th>T7</th>\n",
              "      <th>T8</th>\n",
              "      <th>PZ</th>\n",
              "      <th>Ans</th>\n",
              "      <th>TimeStamp</th>\n",
              "    </tr>\n",
              "  </thead>\n",
              "  <tbody>\n",
              "    <tr>\n",
              "      <th>0</th>\n",
              "      <td>11.444266</td>\n",
              "      <td>-24.872206</td>\n",
              "      <td>93.232624</td>\n",
              "      <td>-48.371099</td>\n",
              "      <td>-82.856489</td>\n",
              "      <td>0</td>\n",
              "      <td>0.000000</td>\n",
              "    </tr>\n",
              "    <tr>\n",
              "      <th>1</th>\n",
              "      <td>77.668421</td>\n",
              "      <td>22.125582</td>\n",
              "      <td>60.883497</td>\n",
              "      <td>81.635767</td>\n",
              "      <td>29.144732</td>\n",
              "      <td>0</td>\n",
              "      <td>0.000488</td>\n",
              "    </tr>\n",
              "    <tr>\n",
              "      <th>2</th>\n",
              "      <td>140.840772</td>\n",
              "      <td>68.513008</td>\n",
              "      <td>28.839551</td>\n",
              "      <td>207.980468</td>\n",
              "      <td>138.704509</td>\n",
              "      <td>0</td>\n",
              "      <td>0.000977</td>\n",
              "    </tr>\n",
              "    <tr>\n",
              "      <th>3</th>\n",
              "      <td>200.350958</td>\n",
              "      <td>112.153811</td>\n",
              "      <td>-1.983673</td>\n",
              "      <td>327.916381</td>\n",
              "      <td>242.160678</td>\n",
              "      <td>0</td>\n",
              "      <td>0.001465</td>\n",
              "    </tr>\n",
              "    <tr>\n",
              "      <th>4</th>\n",
              "      <td>254.978256</td>\n",
              "      <td>152.742809</td>\n",
              "      <td>-30.670634</td>\n",
              "      <td>438.696880</td>\n",
              "      <td>337.987335</td>\n",
              "      <td>0</td>\n",
              "      <td>0.001953</td>\n",
              "    </tr>\n",
              "    <tr>\n",
              "      <th>...</th>\n",
              "      <td>...</td>\n",
              "      <td>...</td>\n",
              "      <td>...</td>\n",
              "      <td>...</td>\n",
              "      <td>...</td>\n",
              "      <td>...</td>\n",
              "      <td>...</td>\n",
              "    </tr>\n",
              "    <tr>\n",
              "      <th>995</th>\n",
              "      <td>67.292287</td>\n",
              "      <td>51.422904</td>\n",
              "      <td>-38.605325</td>\n",
              "      <td>126.497292</td>\n",
              "      <td>124.666209</td>\n",
              "      <td>0</td>\n",
              "      <td>0.485840</td>\n",
              "    </tr>\n",
              "    <tr>\n",
              "      <th>996</th>\n",
              "      <td>67.292287</td>\n",
              "      <td>51.422904</td>\n",
              "      <td>-38.605325</td>\n",
              "      <td>126.192111</td>\n",
              "      <td>124.666209</td>\n",
              "      <td>0</td>\n",
              "      <td>0.486328</td>\n",
              "    </tr>\n",
              "    <tr>\n",
              "      <th>997</th>\n",
              "      <td>67.292287</td>\n",
              "      <td>51.422904</td>\n",
              "      <td>-38.605325</td>\n",
              "      <td>126.192111</td>\n",
              "      <td>124.666209</td>\n",
              "      <td>0</td>\n",
              "      <td>0.486816</td>\n",
              "    </tr>\n",
              "    <tr>\n",
              "      <th>998</th>\n",
              "      <td>67.292287</td>\n",
              "      <td>51.117723</td>\n",
              "      <td>-38.605325</td>\n",
              "      <td>126.192111</td>\n",
              "      <td>124.666209</td>\n",
              "      <td>0</td>\n",
              "      <td>0.487305</td>\n",
              "    </tr>\n",
              "    <tr>\n",
              "      <th>999</th>\n",
              "      <td>67.292287</td>\n",
              "      <td>51.117723</td>\n",
              "      <td>-38.605325</td>\n",
              "      <td>125.886931</td>\n",
              "      <td>124.666209</td>\n",
              "      <td>0</td>\n",
              "      <td>0.487793</td>\n",
              "    </tr>\n",
              "  </tbody>\n",
              "</table>\n",
              "<p>1000 rows × 7 columns</p>\n",
              "</div>"
            ],
            "text/plain": [
              "             F3          F4         T7          T8          PZ  Ans  TimeStamp\n",
              "0     11.444266  -24.872206  93.232624  -48.371099  -82.856489    0   0.000000\n",
              "1     77.668421   22.125582  60.883497   81.635767   29.144732    0   0.000488\n",
              "2    140.840772   68.513008  28.839551  207.980468  138.704509    0   0.000977\n",
              "3    200.350958  112.153811  -1.983673  327.916381  242.160678    0   0.001465\n",
              "4    254.978256  152.742809 -30.670634  438.696880  337.987335    0   0.001953\n",
              "..          ...         ...        ...         ...         ...  ...        ...\n",
              "995   67.292287   51.422904 -38.605325  126.497292  124.666209    0   0.485840\n",
              "996   67.292287   51.422904 -38.605325  126.192111  124.666209    0   0.486328\n",
              "997   67.292287   51.422904 -38.605325  126.192111  124.666209    0   0.486816\n",
              "998   67.292287   51.117723 -38.605325  126.192111  124.666209    0   0.487305\n",
              "999   67.292287   51.117723 -38.605325  125.886931  124.666209    0   0.487793\n",
              "\n",
              "[1000 rows x 7 columns]"
            ]
          },
          "metadata": {
            "tags": []
          },
          "execution_count": 11
        }
      ]
    },
    {
      "cell_type": "code",
      "metadata": {
        "colab": {
          "base_uri": "https://localhost:8080/"
        },
        "id": "3R7b_SLq3fQv",
        "outputId": "0030812d-a6db-41bf-c7b2-11cf081c0a5c"
      },
      "source": [
        "print(local_data.columns[0])\n"
      ],
      "execution_count": null,
      "outputs": [
        {
          "output_type": "stream",
          "text": [
            "F3\n"
          ],
          "name": "stdout"
        }
      ]
    },
    {
      "cell_type": "code",
      "metadata": {
        "id": "4GQke8vzAmrp"
      },
      "source": [
        "for i in range(5):\n",
        "  np1 = np.array(local_data.iloc[:,i]).reshape(-1,1)\n",
        "  sc = preprocessing.MinMaxScaler()\n",
        "  sc.fit(np1)\n",
        "  np1 = sc.transform(np1)\n",
        "  local_data[local_data.columns[i]] = np1"
      ],
      "execution_count": null,
      "outputs": []
    },
    {
      "cell_type": "code",
      "metadata": {
        "colab": {
          "base_uri": "https://localhost:8080/",
          "height": 195
        },
        "id": "LgEO2UyMBZPS",
        "outputId": "b842fa3a-7e26-45df-a81d-5d0819365a20"
      },
      "source": [
        "local_data.head()"
      ],
      "execution_count": null,
      "outputs": [
        {
          "output_type": "execute_result",
          "data": {
            "text/html": [
              "<div>\n",
              "<style scoped>\n",
              "    .dataframe tbody tr th:only-of-type {\n",
              "        vertical-align: middle;\n",
              "    }\n",
              "\n",
              "    .dataframe tbody tr th {\n",
              "        vertical-align: top;\n",
              "    }\n",
              "\n",
              "    .dataframe thead th {\n",
              "        text-align: right;\n",
              "    }\n",
              "</style>\n",
              "<table border=\"1\" class=\"dataframe\">\n",
              "  <thead>\n",
              "    <tr style=\"text-align: right;\">\n",
              "      <th></th>\n",
              "      <th>F3</th>\n",
              "      <th>F4</th>\n",
              "      <th>T7</th>\n",
              "      <th>T8</th>\n",
              "      <th>PZ</th>\n",
              "      <th>Ans</th>\n",
              "      <th>TimeStamp</th>\n",
              "    </tr>\n",
              "  </thead>\n",
              "  <tbody>\n",
              "    <tr>\n",
              "      <th>0</th>\n",
              "      <td>0.554616</td>\n",
              "      <td>0.526215</td>\n",
              "      <td>0.696196</td>\n",
              "      <td>0.530384</td>\n",
              "      <td>0.495857</td>\n",
              "      <td>0</td>\n",
              "      <td>0.000000</td>\n",
              "    </tr>\n",
              "    <tr>\n",
              "      <th>1</th>\n",
              "      <td>0.625163</td>\n",
              "      <td>0.599619</td>\n",
              "      <td>0.640959</td>\n",
              "      <td>0.603718</td>\n",
              "      <td>0.501457</td>\n",
              "      <td>0</td>\n",
              "      <td>0.000488</td>\n",
              "    </tr>\n",
              "    <tr>\n",
              "      <th>2</th>\n",
              "      <td>0.692458</td>\n",
              "      <td>0.672069</td>\n",
              "      <td>0.586243</td>\n",
              "      <td>0.674987</td>\n",
              "      <td>0.506935</td>\n",
              "      <td>0</td>\n",
              "      <td>0.000977</td>\n",
              "    </tr>\n",
              "    <tr>\n",
              "      <th>3</th>\n",
              "      <td>0.755852</td>\n",
              "      <td>0.740229</td>\n",
              "      <td>0.533611</td>\n",
              "      <td>0.742641</td>\n",
              "      <td>0.512108</td>\n",
              "      <td>0</td>\n",
              "      <td>0.001465</td>\n",
              "    </tr>\n",
              "    <tr>\n",
              "      <th>4</th>\n",
              "      <td>0.814044</td>\n",
              "      <td>0.803622</td>\n",
              "      <td>0.484627</td>\n",
              "      <td>0.805130</td>\n",
              "      <td>0.516899</td>\n",
              "      <td>0</td>\n",
              "      <td>0.001953</td>\n",
              "    </tr>\n",
              "  </tbody>\n",
              "</table>\n",
              "</div>"
            ],
            "text/plain": [
              "         F3        F4        T7        T8        PZ  Ans  TimeStamp\n",
              "0  0.554616  0.526215  0.696196  0.530384  0.495857    0   0.000000\n",
              "1  0.625163  0.599619  0.640959  0.603718  0.501457    0   0.000488\n",
              "2  0.692458  0.672069  0.586243  0.674987  0.506935    0   0.000977\n",
              "3  0.755852  0.740229  0.533611  0.742641  0.512108    0   0.001465\n",
              "4  0.814044  0.803622  0.484627  0.805130  0.516899    0   0.001953"
            ]
          },
          "metadata": {
            "tags": []
          },
          "execution_count": 14
        }
      ]
    },
    {
      "cell_type": "code",
      "metadata": {
        "colab": {
          "base_uri": "https://localhost:8080/"
        },
        "id": "kaMlcin6wF9i",
        "outputId": "9b9ee6bd-6502-4c18-9b80-77984eb5e5b9"
      },
      "source": [
        "X = np.zeros((int(local_data.shape[0]/30)-1,150,1),dtype = float)\n",
        "Y = np.zeros((int(local_data.shape[0]/30)-1,1))\n",
        "for i in pb.progressbar(range(int(local_data.shape[0]/30)-1)):\n",
        "  X[i] = np.array(local_data.iloc[i*30:(i+1)*30,0:5].transpose()).reshape(-1,1)\n",
        "  Y[i] = np.array([int(local_data.iloc[i*30:(i+1)*30,5].sum()/30)]).reshape(1)\n",
        "print(X.shape,Y.shape)"
      ],
      "execution_count": null,
      "outputs": [
        {
          "output_type": "stream",
          "text": [
            "100% (96186 of 96186) |##################| Elapsed Time: 0:01:40 Time:  0:01:40\n"
          ],
          "name": "stderr"
        },
        {
          "output_type": "stream",
          "text": [
            "(96186, 150, 1) (96186, 1)\n"
          ],
          "name": "stdout"
        }
      ]
    },
    {
      "cell_type": "code",
      "metadata": {
        "id": "sF7XiFzzj675"
      },
      "source": [
        "model = keras.Sequential()\n",
        "model.add(layers.LSTM(150, input_shape = (150,1),return_sequences=True))\n",
        "model.add(layers.Dropout(0.2))\n",
        "model.add(layers.LSTM(50))\n",
        "model.add(layers.Dropout(0.2))\n",
        "model.add(layers.Dense(6, activation = 'softmax'))\n",
        "model.add(layers.Dense(1,activation = 'relu'))"
      ],
      "execution_count": null,
      "outputs": []
    },
    {
      "cell_type": "code",
      "metadata": {
        "id": "2tlCArp5kOCM"
      },
      "source": [
        "model.compile(optimizer='adam', loss='mean_squared_logarithmic_error')"
      ],
      "execution_count": null,
      "outputs": []
    },
    {
      "cell_type": "code",
      "metadata": {
        "colab": {
          "base_uri": "https://localhost:8080/"
        },
        "id": "gv78O6JV9HUc",
        "outputId": "2f15a03a-4d5d-40f2-ecdc-f169c5d24f34"
      },
      "source": [
        "model.build(input_shape = (100,150,1))\n",
        "model.summary()"
      ],
      "execution_count": null,
      "outputs": [
        {
          "output_type": "stream",
          "text": [
            "Model: \"sequential_10\"\n",
            "_________________________________________________________________\n",
            "Layer (type)                 Output Shape              Param #   \n",
            "=================================================================\n",
            "lstm_10 (LSTM)               (None, 150, 150)          91200     \n",
            "_________________________________________________________________\n",
            "dropout_4 (Dropout)          (None, 150, 150)          0         \n",
            "_________________________________________________________________\n",
            "lstm_11 (LSTM)               (None, 50)                40200     \n",
            "_________________________________________________________________\n",
            "dropout_5 (Dropout)          (None, 50)                0         \n",
            "_________________________________________________________________\n",
            "dense_28 (Dense)             (None, 6)                 306       \n",
            "_________________________________________________________________\n",
            "dense_29 (Dense)             (None, 1)                 7         \n",
            "=================================================================\n",
            "Total params: 131,713\n",
            "Trainable params: 131,713\n",
            "Non-trainable params: 0\n",
            "_________________________________________________________________\n"
          ],
          "name": "stdout"
        }
      ]
    },
    {
      "cell_type": "code",
      "metadata": {
        "colab": {
          "base_uri": "https://localhost:8080/"
        },
        "id": "ADG_Z-tKCYxi",
        "outputId": "0163a79a-da72-437a-e055-99134240345b"
      },
      "source": [
        "model.fit(X,Y,batch_size=100,epochs = 3)"
      ],
      "execution_count": null,
      "outputs": [
        {
          "output_type": "stream",
          "text": [
            "Epoch 1/3\n",
            "962/962 [==============================] - 553s 574ms/step - loss: 0.5469\n",
            "Epoch 2/3\n",
            "962/962 [==============================] - 553s 575ms/step - loss: 0.5390\n",
            "Epoch 3/3\n",
            "962/962 [==============================] - 556s 578ms/step - loss: 0.5390\n"
          ],
          "name": "stdout"
        },
        {
          "output_type": "execute_result",
          "data": {
            "text/plain": [
              "<tensorflow.python.keras.callbacks.History at 0x7fedc4784c10>"
            ]
          },
          "metadata": {
            "tags": []
          },
          "execution_count": 84
        }
      ]
    },
    {
      "cell_type": "code",
      "metadata": {
        "id": "oxgPg12F9Zlr"
      },
      "source": [
        "def driver(arr):\n",
        "  if (arr.shape[0]>=arr.shape[1]):\n",
        "    arr = np.array(arr).reshape(1,-1,1)\n",
        "    ans =  float(model.predict(arr))\n",
        "    if (ans>0):\n",
        "      if (ans<=1):\n",
        "        return \"Current Thought Process Predicted is - Neutral\"\n",
        "      elif (ans<=2 and ans>1):\n",
        "        return \"Current Thought Process Predicted is - Neutral Straight\"\n",
        "      elif (ans<=3 and ans>2):\n",
        "        return \"Current Thought Process Predicted is - left\"\n",
        "      elif (ans<=4 and ans>3):\n",
        "        return \"Current Thought Process Predicted is - right\"\n",
        "      elif (ans<=5 and ans>4):\n",
        "        return \"Current Thought Process Predicted is - Back\"\n",
        "      else:\n",
        "        return \"Current Thought Process Predicted is - Unmatched\"\n",
        "    else:\n",
        "      \"Unnatural\"\n",
        "  else:\n",
        "    \"Weird\""
      ],
      "execution_count": null,
      "outputs": []
    },
    {
      "cell_type": "code",
      "metadata": {
        "colab": {
          "base_uri": "https://localhost:8080/"
        },
        "id": "MVj7lzhFKfjX",
        "outputId": "bae02d53-0411-4866-8f51-01093e0f50f5"
      },
      "source": [
        "import time\n",
        "for i in np.random.randint(90000,size = 100):\n",
        "  print(driver(X[i]), Y[i])\n",
        "  time.sleep(1)\n"
      ],
      "execution_count": null,
      "outputs": [
        {
          "output_type": "stream",
          "text": [
            "Current Thought Process Predicted is - Neutral Straight [0.]\n",
            "Current Thought Process Predicted is - Neutral Straight [0.]\n",
            "Current Thought Process Predicted is - Neutral Straight [0.]\n",
            "Current Thought Process Predicted is - Neutral Straight [0.]\n",
            "Current Thought Process Predicted is - Neutral Straight [0.]\n",
            "Current Thought Process Predicted is - Neutral Straight [0.]\n",
            "Current Thought Process Predicted is - Neutral Straight [0.]\n",
            "Current Thought Process Predicted is - Neutral Straight [0.]\n",
            "Current Thought Process Predicted is - Neutral Straight [2.]\n",
            "Current Thought Process Predicted is - Neutral Straight [0.]\n",
            "Current Thought Process Predicted is - Neutral Straight [4.]\n",
            "Current Thought Process Predicted is - Neutral Straight [2.]\n",
            "Current Thought Process Predicted is - Neutral Straight [5.]\n",
            "Current Thought Process Predicted is - Neutral Straight [5.]\n",
            "Current Thought Process Predicted is - Neutral Straight [0.]\n",
            "Current Thought Process Predicted is - Neutral Straight [0.]\n",
            "Current Thought Process Predicted is - Neutral Straight [5.]\n",
            "Current Thought Process Predicted is - Neutral Straight [1.]\n",
            "Current Thought Process Predicted is - Neutral Straight [4.]\n",
            "Current Thought Process Predicted is - Neutral Straight [5.]\n",
            "Current Thought Process Predicted is - Neutral Straight [0.]\n",
            "Current Thought Process Predicted is - Neutral Straight [2.]\n",
            "Current Thought Process Predicted is - Neutral Straight [1.]\n",
            "Current Thought Process Predicted is - Neutral Straight [2.]\n",
            "Current Thought Process Predicted is - Neutral Straight [1.]\n",
            "Current Thought Process Predicted is - Neutral Straight [3.]\n",
            "Current Thought Process Predicted is - Neutral Straight [4.]\n",
            "Current Thought Process Predicted is - Neutral Straight [0.]\n",
            "Current Thought Process Predicted is - Neutral Straight [4.]\n",
            "Current Thought Process Predicted is - Neutral Straight [0.]\n",
            "Current Thought Process Predicted is - Neutral Straight [2.]\n",
            "Current Thought Process Predicted is - Neutral Straight [4.]\n",
            "Current Thought Process Predicted is - Neutral Straight [0.]\n",
            "Current Thought Process Predicted is - Neutral Straight [3.]\n",
            "Current Thought Process Predicted is - Neutral Straight [0.]\n",
            "Current Thought Process Predicted is - Neutral Straight [3.]\n",
            "Current Thought Process Predicted is - Neutral Straight [0.]\n",
            "Current Thought Process Predicted is - Neutral Straight [4.]\n",
            "Current Thought Process Predicted is - Neutral Straight [1.]\n",
            "Current Thought Process Predicted is - Neutral Straight [4.]\n",
            "Current Thought Process Predicted is - Neutral Straight [3.]\n",
            "Current Thought Process Predicted is - Neutral Straight [0.]\n",
            "Current Thought Process Predicted is - Neutral Straight [0.]\n",
            "Current Thought Process Predicted is - Neutral Straight [5.]\n",
            "Current Thought Process Predicted is - Neutral Straight [3.]\n",
            "Current Thought Process Predicted is - Neutral Straight [2.]\n",
            "Current Thought Process Predicted is - Neutral Straight [4.]\n",
            "Current Thought Process Predicted is - Neutral Straight [0.]\n",
            "Current Thought Process Predicted is - Neutral Straight [0.]\n",
            "Current Thought Process Predicted is - Neutral Straight [3.]\n",
            "Current Thought Process Predicted is - Neutral Straight [0.]\n",
            "Current Thought Process Predicted is - Neutral Straight [1.]\n",
            "Current Thought Process Predicted is - Neutral Straight [0.]\n",
            "Current Thought Process Predicted is - Neutral Straight [4.]\n",
            "Current Thought Process Predicted is - Neutral Straight [3.]\n",
            "Current Thought Process Predicted is - Neutral Straight [0.]\n",
            "Current Thought Process Predicted is - Neutral Straight [0.]\n",
            "Current Thought Process Predicted is - Neutral Straight [1.]\n",
            "Current Thought Process Predicted is - Neutral Straight [5.]\n",
            "Current Thought Process Predicted is - Neutral Straight [4.]\n",
            "Current Thought Process Predicted is - Neutral Straight [0.]\n",
            "Current Thought Process Predicted is - Neutral Straight [2.]\n",
            "Current Thought Process Predicted is - Neutral Straight [0.]\n",
            "Current Thought Process Predicted is - Neutral Straight [4.]\n",
            "Current Thought Process Predicted is - Neutral Straight [2.]\n",
            "Current Thought Process Predicted is - Neutral Straight [0.]\n",
            "Current Thought Process Predicted is - Neutral Straight [1.]\n",
            "Current Thought Process Predicted is - Neutral Straight [0.]\n",
            "Current Thought Process Predicted is - Neutral Straight [4.]\n",
            "Current Thought Process Predicted is - Neutral Straight [5.]\n",
            "Current Thought Process Predicted is - Neutral Straight [0.]\n",
            "Current Thought Process Predicted is - Neutral Straight [0.]\n",
            "Current Thought Process Predicted is - Neutral Straight [0.]\n",
            "Current Thought Process Predicted is - Neutral Straight [5.]\n",
            "Current Thought Process Predicted is - Neutral Straight [0.]\n",
            "Current Thought Process Predicted is - Neutral Straight [0.]\n",
            "Current Thought Process Predicted is - Neutral Straight [5.]\n",
            "Current Thought Process Predicted is - Neutral Straight [0.]\n",
            "Current Thought Process Predicted is - Neutral Straight [3.]\n",
            "Current Thought Process Predicted is - Neutral Straight [1.]\n",
            "Current Thought Process Predicted is - Neutral Straight [2.]\n",
            "Current Thought Process Predicted is - Neutral Straight [0.]\n",
            "Current Thought Process Predicted is - Neutral Straight [4.]\n",
            "Current Thought Process Predicted is - Neutral Straight [0.]\n",
            "Current Thought Process Predicted is - Neutral Straight [3.]\n",
            "Current Thought Process Predicted is - Neutral Straight [0.]\n",
            "Current Thought Process Predicted is - Neutral Straight [0.]\n",
            "Current Thought Process Predicted is - Neutral Straight [3.]\n",
            "Current Thought Process Predicted is - Neutral Straight [3.]\n",
            "Current Thought Process Predicted is - Neutral Straight [1.]\n",
            "Current Thought Process Predicted is - Neutral Straight [0.]\n",
            "Current Thought Process Predicted is - Neutral Straight [5.]\n",
            "Current Thought Process Predicted is - Neutral Straight [3.]\n",
            "Current Thought Process Predicted is - Neutral Straight [4.]\n",
            "Current Thought Process Predicted is - Neutral Straight [3.]\n",
            "Current Thought Process Predicted is - Neutral Straight [4.]\n",
            "Current Thought Process Predicted is - Neutral Straight [1.]\n",
            "Current Thought Process Predicted is - Neutral Straight [4.]\n",
            "Current Thought Process Predicted is - Neutral Straight [0.]\n",
            "Current Thought Process Predicted is - Neutral Straight [0.]\n"
          ],
          "name": "stdout"
        }
      ]
    },
    {
      "cell_type": "code",
      "metadata": {
        "colab": {
          "base_uri": "https://localhost:8080/"
        },
        "id": "kaQkCigPK-CY",
        "outputId": "afd66b86-bfe9-4df7-9641-27f619d357df"
      },
      "source": [
        ""
      ],
      "execution_count": null,
      "outputs": [
        {
          "output_type": "execute_result",
          "data": {
            "text/plain": [
              "array([[0.]], dtype=float32)"
            ]
          },
          "metadata": {
            "tags": []
          },
          "execution_count": 69
        }
      ]
    },
    {
      "cell_type": "code",
      "metadata": {
        "colab": {
          "base_uri": "https://localhost:8080/"
        },
        "id": "pfwPVHavLETC",
        "outputId": "04953901-136d-492a-91c6-bce359e9d2af"
      },
      "source": [
        "print(model(X[1].reshape(1,-1,1)))"
      ],
      "execution_count": null,
      "outputs": [
        {
          "output_type": "stream",
          "text": [
            "tf.Tensor([[0.]], shape=(1, 1), dtype=float32)\n"
          ],
          "name": "stdout"
        }
      ]
    },
    {
      "cell_type": "code",
      "metadata": {
        "id": "iPAP0ixUVond"
      },
      "source": [
        ""
      ],
      "execution_count": null,
      "outputs": []
    }
  ]
}